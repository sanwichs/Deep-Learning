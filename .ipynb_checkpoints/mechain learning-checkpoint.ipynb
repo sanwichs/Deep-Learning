{
 "cells": [
  {
   "cell_type": "code",
   "execution_count": null,
   "id": "d88d344e-6d44-4ed8-a326-3e13a3320b8d",
   "metadata": {
    "tags": []
   },
   "outputs": [],
   "source": [
    "import pandas as pd\n",
    "import matplotlib.pyplot as plt\n",
    "import numpy as np\n",
    "import seaborn as sns\n",
    "from sklearn.preprocessing import LabelEncoder\n",
    "from sklearn.preprocessing import StandardScaler\n",
    "from sklearn.feature_selection import SelectKBest\n",
    "from sklearn.feature_selection import chi2,f_classif\n",
    "from sklearn.metrics import accuracy_score\n",
    "from sklearn.model_selection import train_test_split\n",
    "from sklearn.model_selection import KFold\n",
    "from sklearn.model_selection import cross_val_score\n",
    "from sklearn.linear_model import LogisticRegression\n",
    "from sklearn.naive_bayes import GaussianNB\n",
    "from sklearn.neighbors import KNeighborsClassifier\n",
    "from sklearn.tree import DecisionTreeClassifier\n",
    "from sklearn.svm import SVC"
   ]
  },
  {
   "cell_type": "code",
   "execution_count": null,
   "id": "02350165-82b5-48a3-a93e-0b96ec4ea19b",
   "metadata": {
    "tags": []
   },
   "outputs": [],
   "source": [
    "data = pd.read_csv('./iris.data')"
   ]
  },
  {
   "cell_type": "code",
   "execution_count": null,
   "id": "0ff8c704-70cc-42a6-b37f-a960f887ddb2",
   "metadata": {
    "tags": []
   },
   "outputs": [],
   "source": [
    "data"
   ]
  },
  {
   "cell_type": "code",
   "execution_count": null,
   "id": "a7b373c8-cc35-4a8c-983d-38afbedca311",
   "metadata": {
    "tags": []
   },
   "outputs": [],
   "source": [
    "data.hist(figsize=(16,14))"
   ]
  },
  {
   "cell_type": "code",
   "execution_count": null,
   "id": "cf35e86b-76fd-42a6-8281-f45677240c47",
   "metadata": {
    "tags": []
   },
   "outputs": [],
   "source": [
    "sns.pairplot(data,hue='class')"
   ]
  },
  {
   "cell_type": "code",
   "execution_count": null,
   "id": "76dc1f2a-3540-437f-9aa5-ae86a1eaf8aa",
   "metadata": {
    "tags": []
   },
   "outputs": [],
   "source": [
    "data.plot(kind='box',subplots=True,layout=(4,4),sharex=False,sharey=False,figsize=(16,14))"
   ]
  },
  {
   "cell_type": "code",
   "execution_count": null,
   "id": "d70981c3-707e-479a-a404-b8fd3178369f",
   "metadata": {
    "tags": []
   },
   "outputs": [],
   "source": [
    "data['class']"
   ]
  },
  {
   "cell_type": "code",
   "execution_count": null,
   "id": "e9d0ec5e-5bd4-4c1e-a5e7-50efb9197ac2",
   "metadata": {
    "tags": []
   },
   "outputs": [],
   "source": [
    "# 定义类别到数值的映射字典\n",
    "category_to_numeric = {'Iris-setosa': 0, 'Iris-versicolor': 1, 'Iris-virginica': 2}\n",
    "data['NumericCategory'] = data['class'].map(category_to_numeric)\n",
    "data1 = data.drop(columns='class')##删除某一列"
   ]
  },
  {
   "cell_type": "code",
   "execution_count": null,
   "id": "c401aef2-4791-4fb0-b38c-6b73de4b7261",
   "metadata": {
    "tags": []
   },
   "outputs": [],
   "source": [
    "data1"
   ]
  },
  {
   "cell_type": "code",
   "execution_count": null,
   "id": "5633fb8e-c0e2-48c2-ac06-dc6cdf5d0645",
   "metadata": {
    "tags": []
   },
   "outputs": [],
   "source": [
    "corr = data.iloc[:,0:4].corr()\n",
    "corr"
   ]
  },
  {
   "cell_type": "code",
   "execution_count": null,
   "id": "b4337c35-30fb-4186-95ec-33e878452daf",
   "metadata": {
    "tags": []
   },
   "outputs": [],
   "source": [
    "plt.subplots(figsize=(10,5))\n",
    "sns.heatmap(corr,annot=False)"
   ]
  },
  {
   "cell_type": "markdown",
   "id": "6cf203c7-6448-4315-a901-5c79ecbf2c4a",
   "metadata": {},
   "source": [
    "# Feature Engening"
   ]
  },
  {
   "cell_type": "code",
   "execution_count": null,
   "id": "f6a2a67f-06a5-4a1d-bc25-a1a4861ae799",
   "metadata": {
    "tags": []
   },
   "outputs": [],
   "source": [
    "x = data.iloc[:,0:4]\n",
    "y = data['class']\n",
    "x.describe()"
   ]
  },
  {
   "cell_type": "code",
   "execution_count": null,
   "id": "11cc94b1-7420-4be1-b139-ca5ce22f6d0e",
   "metadata": {
    "tags": []
   },
   "outputs": [],
   "source": [
    "select_top_4=SelectKBest(score_func=f_classif,k=2) ##建立一个函数，使用anova方法获得F值最高的2个特征"
   ]
  },
  {
   "cell_type": "code",
   "execution_count": null,
   "id": "8a023184-312b-4757-b9d9-1bd91e9af78c",
   "metadata": {
    "tags": []
   },
   "outputs": [],
   "source": [
    "fit = select_top_4.fit(x,y)##使用fit方法，利用x和y数据，学习4个最好的特征\n",
    "features=fit.transform(x)#返回学习到的4个最佳特征\n",
    "used_index=fit.get_support(indices=True).tolist()#返回相关性排名前4的列\n",
    "column_names=np.array(x.columns)#这三行是利用index信息，获得相关性排名前四的列\n",
    "used_column=column_names[used_index]\n",
    "print(used_column)"
   ]
  },
  {
   "cell_type": "code",
   "execution_count": 88,
   "id": "eb2c49da-e718-4b0e-922f-16775cda997a",
   "metadata": {
    "tags": []
   },
   "outputs": [
    {
     "data": {
      "text/html": [
       "<div>\n",
       "<style scoped>\n",
       "    .dataframe tbody tr th:only-of-type {\n",
       "        vertical-align: middle;\n",
       "    }\n",
       "\n",
       "    .dataframe tbody tr th {\n",
       "        vertical-align: top;\n",
       "    }\n",
       "\n",
       "    .dataframe thead th {\n",
       "        text-align: right;\n",
       "    }\n",
       "</style>\n",
       "<table border=\"1\" class=\"dataframe\">\n",
       "  <thead>\n",
       "    <tr style=\"text-align: right;\">\n",
       "      <th></th>\n",
       "      <th>petal length</th>\n",
       "      <th>petal width</th>\n",
       "    </tr>\n",
       "  </thead>\n",
       "  <tbody>\n",
       "    <tr>\n",
       "      <th>0</th>\n",
       "      <td>1.4</td>\n",
       "      <td>0.2</td>\n",
       "    </tr>\n",
       "    <tr>\n",
       "      <th>1</th>\n",
       "      <td>1.4</td>\n",
       "      <td>0.2</td>\n",
       "    </tr>\n",
       "    <tr>\n",
       "      <th>2</th>\n",
       "      <td>1.3</td>\n",
       "      <td>0.2</td>\n",
       "    </tr>\n",
       "    <tr>\n",
       "      <th>3</th>\n",
       "      <td>1.5</td>\n",
       "      <td>0.2</td>\n",
       "    </tr>\n",
       "    <tr>\n",
       "      <th>4</th>\n",
       "      <td>1.4</td>\n",
       "      <td>0.2</td>\n",
       "    </tr>\n",
       "  </tbody>\n",
       "</table>\n",
       "</div>"
      ],
      "text/plain": [
       "   petal length  petal width\n",
       "0           1.4          0.2\n",
       "1           1.4          0.2\n",
       "2           1.3          0.2\n",
       "3           1.5          0.2\n",
       "4           1.4          0.2"
      ]
     },
     "execution_count": 88,
     "metadata": {},
     "output_type": "execute_result"
    }
   ],
   "source": [
    "x_features= pd.DataFrame(data=features,columns=used_column)\n",
    "x_features.head()"
   ]
  },
  {
   "cell_type": "markdown",
   "id": "4260833f-e791-4701-b1c4-07621d0faca0",
   "metadata": {},
   "source": [
    "# Normalization\n",
    "归一化有助于加快梯度下降求解最优的速度以及提高精度"
   ]
  },
  {
   "cell_type": "code",
   "execution_count": 92,
   "id": "f8fa2c3a-9f1b-47ba-9549-73049df2511d",
   "metadata": {
    "tags": []
   },
   "outputs": [
    {
     "data": {
      "text/html": [
       "<div>\n",
       "<style scoped>\n",
       "    .dataframe tbody tr th:only-of-type {\n",
       "        vertical-align: middle;\n",
       "    }\n",
       "\n",
       "    .dataframe tbody tr th {\n",
       "        vertical-align: top;\n",
       "    }\n",
       "\n",
       "    .dataframe thead th {\n",
       "        text-align: right;\n",
       "    }\n",
       "</style>\n",
       "<table border=\"1\" class=\"dataframe\">\n",
       "  <thead>\n",
       "    <tr style=\"text-align: right;\">\n",
       "      <th></th>\n",
       "      <th>petal length</th>\n",
       "      <th>petal width</th>\n",
       "    </tr>\n",
       "  </thead>\n",
       "  <tbody>\n",
       "    <tr>\n",
       "      <th>0</th>\n",
       "      <td>-1.341272</td>\n",
       "      <td>-1.312977</td>\n",
       "    </tr>\n",
       "    <tr>\n",
       "      <th>1</th>\n",
       "      <td>-1.341272</td>\n",
       "      <td>-1.312977</td>\n",
       "    </tr>\n",
       "    <tr>\n",
       "      <th>2</th>\n",
       "      <td>-1.398138</td>\n",
       "      <td>-1.312977</td>\n",
       "    </tr>\n",
       "    <tr>\n",
       "      <th>3</th>\n",
       "      <td>-1.284407</td>\n",
       "      <td>-1.312977</td>\n",
       "    </tr>\n",
       "    <tr>\n",
       "      <th>4</th>\n",
       "      <td>-1.341272</td>\n",
       "      <td>-1.312977</td>\n",
       "    </tr>\n",
       "  </tbody>\n",
       "</table>\n",
       "</div>"
      ],
      "text/plain": [
       "   petal length  petal width\n",
       "0     -1.341272    -1.312977\n",
       "1     -1.341272    -1.312977\n",
       "2     -1.398138    -1.312977\n",
       "3     -1.284407    -1.312977\n",
       "4     -1.341272    -1.312977"
      ]
     },
     "execution_count": 92,
     "metadata": {},
     "output_type": "execute_result"
    }
   ],
   "source": [
    "rescaledx = StandardScaler().fit_transform(x_features) ## 通过sklearn的preprocessing数据预处理中standardscale特征缩放标准化特征信息\n",
    "x = pd.DataFrame(data=rescaledx,columns=x_features.columns) ## 构建新特征dataframe\n",
    "x.head()"
   ]
  },
  {
   "cell_type": "markdown",
   "id": "cd2abe78-77f5-445a-bb33-5263a0c3b4be",
   "metadata": {},
   "source": [
    "# 机器学习-构建二分类算法模型"
   ]
  },
  {
   "cell_type": "code",
   "execution_count": 94,
   "id": "7ffc2aa3-5aa8-4a94-8507-61b14dd63e5e",
   "metadata": {
    "tags": []
   },
   "outputs": [],
   "source": [
    "#构建训练模型  传统机器学习算法\n",
    "models=[]\n",
    "models.append(('LR',LogisticRegression(max_iter=1000)))##逻辑回归\n",
    "models.append(('NB',GaussianNB()))                     ##高斯朴素贝叶斯算法\n",
    "models.append(('KNN',KNeighborsClassifier()))          ##K近邻分类\n",
    "models.append(('DT',DecisionTreeClassifier()))         ##决策树分类\n",
    "models.append(('SVM',SVC()))                           ##支持向量机分类"
   ]
  },
  {
   "cell_type": "markdown",
   "id": "2253f5ae-39f9-47f7-8400-aa32d27033af",
   "metadata": {},
   "source": [
    "k-fold CV,也就是下面用到的函数KFold,是把原始的数据分为K个子集，每次将其中一个子集当作测试集，其余的作为训练集。深度学习一般数据量太大，不采用kfold的方法"
   ]
  },
  {
   "cell_type": "code",
   "execution_count": 95,
   "id": "6d2bc98a-e1c4-432e-986e-82823d0acbea",
   "metadata": {
    "tags": []
   },
   "outputs": [
    {
     "name": "stdout",
     "output_type": "stream",
     "text": [
      "LR 0.9533333333333334\n",
      "NB 0.9533333333333334\n",
      "KNN 0.96\n",
      "DT 0.9200000000000002\n",
      "SVM 0.9533333333333334\n"
     ]
    }
   ],
   "source": [
    "results = []\n",
    "names = []\n",
    "for name,model in models:\n",
    "    kfold = KFold(n_splits=10)\n",
    "    cv_result=cross_val_score(model,x,y,cv=kfold,scoring='accuracy')##分成10份，分别应用模型学习，并计算准确性\n",
    "    names.append(name)\n",
    "    results.append(cv_result)\n",
    "\n",
    "for i in range(len(names)):\n",
    "    print(names[i],results[i].mean())                               ##10次结果的平均值"
   ]
  },
  {
   "cell_type": "markdown",
   "id": "1d90d380-1dcf-49c8-bf93-718304b3b7f9",
   "metadata": {
    "tags": []
   },
   "source": [
    "# Without Feature engineering"
   ]
  },
  {
   "cell_type": "code",
   "execution_count": 98,
   "id": "d4e496da-bb31-4011-b654-2f11cddb788d",
   "metadata": {
    "tags": []
   },
   "outputs": [
    {
     "data": {
      "text/html": [
       "<div>\n",
       "<style scoped>\n",
       "    .dataframe tbody tr th:only-of-type {\n",
       "        vertical-align: middle;\n",
       "    }\n",
       "\n",
       "    .dataframe tbody tr th {\n",
       "        vertical-align: top;\n",
       "    }\n",
       "\n",
       "    .dataframe thead th {\n",
       "        text-align: right;\n",
       "    }\n",
       "</style>\n",
       "<table border=\"1\" class=\"dataframe\">\n",
       "  <thead>\n",
       "    <tr style=\"text-align: right;\">\n",
       "      <th></th>\n",
       "      <th>sepal length</th>\n",
       "      <th>sepal width</th>\n",
       "      <th>petal length</th>\n",
       "      <th>petal width</th>\n",
       "    </tr>\n",
       "  </thead>\n",
       "  <tbody>\n",
       "    <tr>\n",
       "      <th>count</th>\n",
       "      <td>150.000000</td>\n",
       "      <td>150.000000</td>\n",
       "      <td>150.000000</td>\n",
       "      <td>150.000000</td>\n",
       "    </tr>\n",
       "    <tr>\n",
       "      <th>mean</th>\n",
       "      <td>5.843333</td>\n",
       "      <td>3.054000</td>\n",
       "      <td>3.758667</td>\n",
       "      <td>1.198667</td>\n",
       "    </tr>\n",
       "    <tr>\n",
       "      <th>std</th>\n",
       "      <td>0.828066</td>\n",
       "      <td>0.433594</td>\n",
       "      <td>1.764420</td>\n",
       "      <td>0.763161</td>\n",
       "    </tr>\n",
       "    <tr>\n",
       "      <th>min</th>\n",
       "      <td>4.300000</td>\n",
       "      <td>2.000000</td>\n",
       "      <td>1.000000</td>\n",
       "      <td>0.100000</td>\n",
       "    </tr>\n",
       "    <tr>\n",
       "      <th>25%</th>\n",
       "      <td>5.100000</td>\n",
       "      <td>2.800000</td>\n",
       "      <td>1.600000</td>\n",
       "      <td>0.300000</td>\n",
       "    </tr>\n",
       "    <tr>\n",
       "      <th>50%</th>\n",
       "      <td>5.800000</td>\n",
       "      <td>3.000000</td>\n",
       "      <td>4.350000</td>\n",
       "      <td>1.300000</td>\n",
       "    </tr>\n",
       "    <tr>\n",
       "      <th>75%</th>\n",
       "      <td>6.400000</td>\n",
       "      <td>3.300000</td>\n",
       "      <td>5.100000</td>\n",
       "      <td>1.800000</td>\n",
       "    </tr>\n",
       "    <tr>\n",
       "      <th>max</th>\n",
       "      <td>7.900000</td>\n",
       "      <td>4.400000</td>\n",
       "      <td>6.900000</td>\n",
       "      <td>2.500000</td>\n",
       "    </tr>\n",
       "  </tbody>\n",
       "</table>\n",
       "</div>"
      ],
      "text/plain": [
       "       sepal length  sepal width  petal length  petal width\n",
       "count    150.000000   150.000000    150.000000   150.000000\n",
       "mean       5.843333     3.054000      3.758667     1.198667\n",
       "std        0.828066     0.433594      1.764420     0.763161\n",
       "min        4.300000     2.000000      1.000000     0.100000\n",
       "25%        5.100000     2.800000      1.600000     0.300000\n",
       "50%        5.800000     3.000000      4.350000     1.300000\n",
       "75%        6.400000     3.300000      5.100000     1.800000\n",
       "max        7.900000     4.400000      6.900000     2.500000"
      ]
     },
     "execution_count": 98,
     "metadata": {},
     "output_type": "execute_result"
    }
   ],
   "source": [
    "x = data.iloc[:,0:4]\n",
    "y = data['class']\n",
    "x.describe()"
   ]
  },
  {
   "cell_type": "code",
   "execution_count": 99,
   "id": "fb65e42f-aa15-4005-ba93-cc7080e6b205",
   "metadata": {
    "tags": []
   },
   "outputs": [
    {
     "name": "stdout",
     "output_type": "stream",
     "text": [
      "LR 0.9466666666666667\n",
      "NB 0.9466666666666667\n",
      "KNN 0.9333333333333333\n",
      "DT 0.9333333333333333\n",
      "SVM 0.9333333333333333\n"
     ]
    }
   ],
   "source": [
    "results = []\n",
    "names = []\n",
    "for name,model in models:\n",
    "    kfold = KFold(n_splits=10)\n",
    "    cv_result=cross_val_score(model,x,y,cv=kfold,scoring='accuracy')##分成10份，分别应用模型学习，并计算准确性\n",
    "    names.append(name)\n",
    "    results.append(cv_result)\n",
    "\n",
    "for i in range(len(names)):\n",
    "    print(names[i],results[i].mean())                               ##10次结果的平均值"
   ]
  },
  {
   "cell_type": "code",
   "execution_count": null,
   "id": "fa7f5002-40ee-4b8c-a547-743f31f78b03",
   "metadata": {},
   "outputs": [],
   "source": []
  },
  {
   "cell_type": "code",
   "execution_count": null,
   "id": "fb48bc55-b6ec-422f-ac5f-8bbfbf05d8f4",
   "metadata": {},
   "outputs": [],
   "source": []
  },
  {
   "cell_type": "code",
   "execution_count": null,
   "id": "f7de74e9-40a2-4d3e-9dc2-be768880edcd",
   "metadata": {},
   "outputs": [],
   "source": []
  },
  {
   "cell_type": "code",
   "execution_count": null,
   "id": "666be688-7380-44eb-ad7a-9a434324edef",
   "metadata": {},
   "outputs": [],
   "source": []
  },
  {
   "cell_type": "code",
   "execution_count": null,
   "id": "ec5a9ed0-6b14-46ae-b965-38930b64c27c",
   "metadata": {},
   "outputs": [],
   "source": []
  },
  {
   "cell_type": "code",
   "execution_count": null,
   "id": "a03830c4-191e-407a-a094-1d89c74186c0",
   "metadata": {},
   "outputs": [],
   "source": []
  },
  {
   "cell_type": "code",
   "execution_count": null,
   "id": "1b447961-a853-4fe9-a488-b6a82344c3b7",
   "metadata": {},
   "outputs": [],
   "source": []
  },
  {
   "cell_type": "code",
   "execution_count": null,
   "id": "e9d3b1a6-9191-4ea9-92a7-b4cfc0f0d9eb",
   "metadata": {},
   "outputs": [],
   "source": []
  },
  {
   "cell_type": "code",
   "execution_count": null,
   "id": "a1c3b6fc-69e5-462e-a0a4-d76db8497dbf",
   "metadata": {},
   "outputs": [],
   "source": []
  },
  {
   "cell_type": "code",
   "execution_count": null,
   "id": "67d7e3a2-e6bf-4469-876f-389e9642a720",
   "metadata": {},
   "outputs": [],
   "source": []
  },
  {
   "cell_type": "code",
   "execution_count": null,
   "id": "88158473-3b8a-4559-919b-d49de5dc5487",
   "metadata": {},
   "outputs": [],
   "source": []
  },
  {
   "cell_type": "code",
   "execution_count": null,
   "id": "c38c3a92-0ba5-45f7-82f4-89db619c7e46",
   "metadata": {},
   "outputs": [],
   "source": []
  },
  {
   "cell_type": "code",
   "execution_count": null,
   "id": "a889b544-16ca-48c9-a48f-b9e22557dc92",
   "metadata": {},
   "outputs": [],
   "source": []
  },
  {
   "cell_type": "code",
   "execution_count": null,
   "id": "7aadb471-c3b5-4cbf-ac8f-9bf427ec0ae8",
   "metadata": {},
   "outputs": [],
   "source": []
  },
  {
   "cell_type": "code",
   "execution_count": null,
   "id": "58d4396e-442b-4208-a5b1-2bbbfdde384f",
   "metadata": {},
   "outputs": [],
   "source": []
  },
  {
   "cell_type": "code",
   "execution_count": null,
   "id": "7ef3df75-d571-4998-a349-0ae72f027b37",
   "metadata": {},
   "outputs": [],
   "source": []
  },
  {
   "cell_type": "code",
   "execution_count": null,
   "id": "d14c1f1a-63db-4d7e-8b4e-a01e3b5dab91",
   "metadata": {},
   "outputs": [],
   "source": []
  },
  {
   "cell_type": "code",
   "execution_count": null,
   "id": "1cce17af-3040-490b-96e2-2a917529b167",
   "metadata": {},
   "outputs": [],
   "source": []
  },
  {
   "cell_type": "code",
   "execution_count": null,
   "id": "8fef5196-4805-4104-b5cd-f0d898c886f8",
   "metadata": {},
   "outputs": [],
   "source": []
  },
  {
   "cell_type": "code",
   "execution_count": null,
   "id": "4bf52380-af24-4597-ade6-8e9d159f4fa8",
   "metadata": {},
   "outputs": [],
   "source": []
  },
  {
   "cell_type": "code",
   "execution_count": null,
   "id": "9c89bcdc-85f6-4ef6-b42b-f1aacdea392c",
   "metadata": {},
   "outputs": [],
   "source": []
  },
  {
   "cell_type": "code",
   "execution_count": null,
   "id": "fba7d10e-d956-438c-85df-f3803de7b0b9",
   "metadata": {},
   "outputs": [],
   "source": []
  },
  {
   "cell_type": "code",
   "execution_count": null,
   "id": "faef3404-e834-4c92-a3d1-5afc5aa5aae2",
   "metadata": {},
   "outputs": [],
   "source": []
  }
 ],
 "metadata": {
  "kernelspec": {
   "display_name": "Python 3 (ipykernel)",
   "language": "python",
   "name": "python3"
  },
  "language_info": {
   "codemirror_mode": {
    "name": "ipython",
    "version": 3
   },
   "file_extension": ".py",
   "mimetype": "text/x-python",
   "name": "python",
   "nbconvert_exporter": "python",
   "pygments_lexer": "ipython3",
   "version": "3.11.3"
  }
 },
 "nbformat": 4,
 "nbformat_minor": 5
}
