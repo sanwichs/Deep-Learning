{
 "cells": [
  {
   "cell_type": "code",
   "execution_count": null,
   "id": "a907a98f-9364-40a5-9078-0f63ad33d31b",
   "metadata": {
    "tags": []
   },
   "outputs": [],
   "source": [
    "import tensorflow as tf\n",
    "import random\n",
    "import numpy as np\n",
    "import pandas as pd\n",
    "from sklearn.linear_model import LinearRegression ##线性回归模型\n",
    "from sklearn.metrics import mean_squared_error ##MSE函数\n",
    "from tensorflow.keras.models import Sequential  ##keras的Sequntial的顺序模型\n",
    "from tensorflow.keras.layers import Dense       ##全连接层，最基本的网络层\n",
    "from sklearn.model_selection import train_test_split ##将数据拆分为测试机和训练集的方法\n",
    "#设定随机种子\n",
    "np.random.seed(333)\n",
    "random.seed(33)\n",
    "tf.random.set_seed(333)"
   ]
  },
  {
   "cell_type": "markdown",
   "id": "f7e2e3ed-12e4-49f3-8c1f-a30248d26372",
   "metadata": {},
   "source": [
    "# 准备数据"
   ]
  },
  {
   "cell_type": "code",
   "execution_count": null,
   "id": "a5540c2a-b558-423a-a5fc-fff9559f0fa2",
   "metadata": {
    "tags": []
   },
   "outputs": [],
   "source": [
    "data = pd.read_csv('./iris.data')\n",
    "# 定义类别到数值的映射字典\n",
    "category_to_numeric = {'Iris-setosa': 0, 'Iris-versicolor': 1, 'Iris-virginica': 2}\n",
    "data['NumericCategory'] = data['class'].map(category_to_numeric)\n",
    "data1 = data.drop(columns='class')##删除某一列\n",
    "x = data.iloc[:,0:4]\n",
    "y = data.iloc[:,5]\n",
    "x.describe()"
   ]
  },
  {
   "cell_type": "code",
   "execution_count": null,
   "id": "0e5e2802-8144-4b73-94b4-4020259fc232",
   "metadata": {
    "tags": []
   },
   "outputs": [],
   "source": [
    "x_train,x_test,y_train,y_test=train_test_split(x,y,random_state=22,test_size=0.1)##拆分出10%作为测试集"
   ]
  },
  {
   "cell_type": "markdown",
   "id": "dd27814b-2272-4a5c-8b41-0a22acc0dd37",
   "metadata": {
    "tags": []
   },
   "source": [
    "# 网络模型构建和编译"
   ]
  },
  {
   "cell_type": "code",
   "execution_count": null,
   "id": "b19b4790-2d66-4c93-a9c0-e9385920f937",
   "metadata": {
    "tags": []
   },
   "outputs": [],
   "source": [
    "model=Sequential()                                                                 ##最简单的顺序结构，网络一层层叠加\n",
    "model.add(Dense(4,input_dim=4,activation='relu'))                                  ##神经网络输入层\n",
    "model.add(Dense(2,activation='relu'))                                              ##神经网络第二层\n",
    "model.add(Dense(1,activation='sigmoid'))                                           ##神经网络输出层\n",
    "model.compile(loss='binary_crossentropy',optimizer='adam',metrics=['accuracy'])    ##模型编译"
   ]
  },
  {
   "cell_type": "markdown",
   "id": "00bd848a-5cd7-4d44-ac91-5e900951670b",
   "metadata": {},
   "source": [
    "# 网络模型的训练"
   ]
  },
  {
   "cell_type": "code",
   "execution_count": null,
   "id": "3e6f2efc-3dc0-4336-94b4-68c9ca5d0abc",
   "metadata": {
    "tags": []
   },
   "outputs": [],
   "source": [
    "model.fit(x=x_train,y=y_train,epochs=120,batch_size=16)"
   ]
  },
  {
   "cell_type": "markdown",
   "id": "22a3d725-14c4-405a-86df-4f0a6d5b8ae6",
   "metadata": {
    "tags": []
   },
   "source": [
    "# 网络模型评估"
   ]
  },
  {
   "cell_type": "code",
   "execution_count": null,
   "id": "8f8c7d49-ba91-40c8-bd63-5ec806533c6c",
   "metadata": {
    "tags": []
   },
   "outputs": [],
   "source": [
    "loss,acc=model.evaluate(x_test,y_test,verbose=0)\n",
    "print(acc)"
   ]
  },
  {
   "cell_type": "markdown",
   "id": "79babdb2-ab33-4da4-8e95-cd6312a11b7b",
   "metadata": {
    "tags": []
   },
   "source": [
    "# 使用模型"
   ]
  },
  {
   "cell_type": "code",
   "execution_count": null,
   "id": "4dd2a349-dac7-4f0a-a069-84bc86c49ec0",
   "metadata": {
    "tags": []
   },
   "outputs": [],
   "source": [
    "results=model.predict(x_test)\n",
    "results"
   ]
  },
  {
   "cell_type": "code",
   "execution_count": null,
   "id": "aeed3737-c863-46ca-9e2a-088cbfb2a863",
   "metadata": {
    "tags": []
   },
   "outputs": [],
   "source": []
  },
  {
   "cell_type": "markdown",
   "id": "a674bb11-dd50-4c66-99d1-073c259918de",
   "metadata": {},
   "source": [
    "# 神经元学习线性数据的参数\n",
    "## 准备数据"
   ]
  },
  {
   "cell_type": "code",
   "execution_count": null,
   "id": "6740f405-4e9e-435b-9385-f4f7d8cd232c",
   "metadata": {
    "tags": []
   },
   "outputs": [],
   "source": [
    "x=[random.random()*10 for i in range(1000)] ## 1000个0~10的数据\n",
    "y=[10*i+2 for i in x]                       ## y=10x+2,使用这个公司生成y\n",
    "x=np.array(x).reshape(len(x),-1)            ## 转换成为np.array\n",
    "y=np.array(y)                               ## 转换成为np.array"
   ]
  },
  {
   "cell_type": "code",
   "execution_count": null,
   "id": "0e70d054-84de-409f-9128-80825ce79f0f",
   "metadata": {
    "tags": []
   },
   "outputs": [],
   "source": [
    "##参考上面的步骤生成测试数据，用与测试评估\n",
    "x_test=[random.random()*10+10 for i in range(100)] ## 1000个0~10的数据\n",
    "y_test=[10*i+2 for i in x_test]                       ## y=10x+2,使用这个公司生成y\n",
    "x_test=np.array(x_test).reshape(len(x_test),-1)            ## 转换成为np.array\n",
    "y_test=np.array(y_test)   "
   ]
  },
  {
   "cell_type": "markdown",
   "id": "20f1fc1f-5d56-4401-87e3-7d3cee4348b6",
   "metadata": {},
   "source": [
    "# 使用sklearn线性回归模型"
   ]
  },
  {
   "cell_type": "markdown",
   "id": "c9c18db6-e847-4bd6-ade5-faab0ba304a9",
   "metadata": {},
   "source": [
    "## 创建线性回归模型并获得它的参数"
   ]
  },
  {
   "cell_type": "code",
   "execution_count": null,
   "id": "d9cd87ae-342a-4e97-8a91-c1fe91f0f430",
   "metadata": {
    "tags": []
   },
   "outputs": [],
   "source": [
    "model1=LinearRegression()   ##创建线性回归模型\n",
    "model1.fit(x,y)             ##使用x,y来fit模型\n",
    "print('函数的系数为：',model1.coef_[0])\n",
    "print('函数的偏差为：',model1.intercept_)"
   ]
  },
  {
   "cell_type": "markdown",
   "id": "68430375-3d51-4362-aba9-c9c7bc6c9e18",
   "metadata": {},
   "source": [
    "# 使用模型进行预测并计算误差\n",
    "## MSE 均方误差，通常用作回归问题的损失函数。测量预测值Y与真实值匹配程度。"
   ]
  },
  {
   "cell_type": "code",
   "execution_count": null,
   "id": "debdbfb7-1df4-42b9-9519-6be01d73d0e6",
   "metadata": {
    "tags": []
   },
   "outputs": [],
   "source": [
    "y_pred=model1.predict(x_test)                   ##模型预测x_test\n",
    "mes_test1=mean_squared_error(y_test,y_pred)     ##计算MSE\n",
    "print(mes_test1)"
   ]
  },
  {
   "cell_type": "markdown",
   "id": "612a55f6-ad04-4ccd-b890-4031d3300d9e",
   "metadata": {},
   "source": [
    "# 使用神经网络模型"
   ]
  },
  {
   "cell_type": "code",
   "execution_count": null,
   "id": "49bfb98f-3070-49a6-bc98-d510c33783ed",
   "metadata": {
    "tags": []
   },
   "outputs": [],
   "source": [
    "model2=Sequential()\n",
    "model2.add(Dense(1,input_dim=1,activation='relu'))\n",
    "model2.compile(loss='MSE',optimizer='adam',metrics=['MSE'])"
   ]
  },
  {
   "cell_type": "code",
   "execution_count": null,
   "id": "c8b4e3a8-c075-4038-8b4e-7c3a3559cd66",
   "metadata": {
    "tags": []
   },
   "outputs": [],
   "source": [
    "model2.fit(x=x,y=y,epochs=1200,batch_size=5)"
   ]
  },
  {
   "cell_type": "code",
   "execution_count": null,
   "id": "91d5704d-f071-49b9-8e55-e1955d61c338",
   "metadata": {
    "tags": []
   },
   "outputs": [],
   "source": [
    "model2.summarymary()"
   ]
  },
  {
   "cell_type": "code",
   "execution_count": null,
   "id": "ccf5582a-d3b7-4fd5-bf02-ed47f737b9f5",
   "metadata": {
    "tags": []
   },
   "outputs": [],
   "source": [
    "print(model2.trainable_variables) ##打印查看可训练的参数"
   ]
  },
  {
   "cell_type": "markdown",
   "id": "26354de9-9fa3-41b5-a27e-3dee78c085a2",
   "metadata": {},
   "source": [
    "# 验证神经网络（神经元）"
   ]
  },
  {
   "cell_type": "code",
   "execution_count": null,
   "id": "791f65e1-28ac-42ec-9845-0f18b6900e44",
   "metadata": {
    "tags": []
   },
   "outputs": [],
   "source": [
    "y_pred=model2.predict(x_test)\n",
    "mse_test2=mean_squared_error(y_test,y_pred)\n",
    "print(mes_test1)"
   ]
  },
  {
   "cell_type": "markdown",
   "id": "7b4f12eb-7d38-4251-bd48-85a6d7f100d3",
   "metadata": {},
   "source": [
    "# 创建非线性数据"
   ]
  },
  {
   "cell_type": "code",
   "execution_count": null,
   "id": "f6cb3ecc-0688-4af8-ba21-12eb93ce9fb1",
   "metadata": {
    "tags": []
   },
   "outputs": [],
   "source": [
    "x=[(random.random()-0.5)*10 for i in range(1000)]\n",
    "y=[i**2+2 for i in x]\n",
    "x=np.array(x).reshape(len(x),-1)\n",
    "y=np.array(y)\n",
    "x_test=[(random.random()-0.5)*2 for i in range(100)]\n",
    "y_test=[10*i+2 for i in x_test]\n",
    "x_test=np.array(x_test).reshape(len(x_test),-1)\n",
    "y_test=np.array(y_test)"
   ]
  },
  {
   "cell_type": "code",
   "execution_count": null,
   "id": "8559a2c5-1288-4c1c-9d46-9026606fae16",
   "metadata": {
    "tags": []
   },
   "outputs": [],
   "source": [
    "model3=LinearRegression()   ##创建线性回归模型\n",
    "model3.fit(x,y)             ##使用x,y来fit模型\n",
    "print('函数的系数为：',model3.coef_[0])\n",
    "print('函数的偏差为：',model3.intercept_)"
   ]
  },
  {
   "cell_type": "code",
   "execution_count": 51,
   "id": "8b4887a5-6da8-40d3-b828-66836f036068",
   "metadata": {
    "tags": []
   },
   "outputs": [
    {
     "name": "stdout",
     "output_type": "stream",
     "text": [
      "LR线性数据的MSE： 2.1103606936472506e-27\n",
      "DP线性数据的MSE： 24682.859873511912\n",
      "LR非线性数据的MSE： 101.33222784681325\n"
     ]
    }
   ],
   "source": [
    "y_pred=model3.predict(x_test)\n",
    "mse_test3=mean_squared_error(y_test,y_pred)\n",
    "print('LR线性数据的MSE：',mes_test1)\n",
    "print('DP线性数据的MSE：',mse_test2)\n",
    "print('LR非线性数据的MSE：',mse_test3)"
   ]
  },
  {
   "cell_type": "markdown",
   "id": "6d5c2fad-95bb-4408-8ae9-4c3a0a5a5071",
   "metadata": {},
   "source": [
    "# 使用神经网络处理非线性数据"
   ]
  },
  {
   "cell_type": "code",
   "execution_count": 57,
   "id": "e2f51e5f-c6d8-488c-bfd7-1c3524fb5ed3",
   "metadata": {
    "tags": []
   },
   "outputs": [],
   "source": [
    "model4=Sequential()\n",
    "model4.add(Dense(1280,input_dim=1,activation='relu'))\n",
    "model4.add(Dense(640,activation='relu'))\n",
    "model4.add(Dense(1))\n",
    "model4.compile(loss='MSE',optimizer='adam',metrics=['MSE'])"
   ]
  },
  {
   "cell_type": "code",
   "execution_count": 58,
   "id": "9d5d3db1-6c00-4aed-a2b3-bb7a4af1e319",
   "metadata": {
    "collapsed": true,
    "jupyter": {
     "outputs_hidden": true
    },
    "tags": []
   },
   "outputs": [
    {
     "name": "stdout",
     "output_type": "stream",
     "text": [
      "Epoch 1/120\n",
      "63/63 [==============================] - 1s 8ms/step - loss: 17.3313 - MSE: 17.3313\n",
      "Epoch 2/120\n",
      "63/63 [==============================] - 1s 8ms/step - loss: 3.3815 - MSE: 3.3815\n",
      "Epoch 3/120\n",
      "63/63 [==============================] - 1s 11ms/step - loss: 1.8895 - MSE: 1.8895\n",
      "Epoch 4/120\n",
      "63/63 [==============================] - 1s 8ms/step - loss: 0.8380 - MSE: 0.8380\n",
      "Epoch 5/120\n",
      "63/63 [==============================] - 1s 10ms/step - loss: 0.3032 - MSE: 0.3032\n",
      "Epoch 6/120\n",
      "63/63 [==============================] - 1s 10ms/step - loss: 0.1695 - MSE: 0.1695\n",
      "Epoch 7/120\n",
      "63/63 [==============================] - 1s 8ms/step - loss: 0.0780 - MSE: 0.0780\n",
      "Epoch 8/120\n",
      "63/63 [==============================] - 1s 8ms/step - loss: 0.0370 - MSE: 0.0370\n",
      "Epoch 9/120\n",
      "63/63 [==============================] - 1s 8ms/step - loss: 0.0264 - MSE: 0.0264\n",
      "Epoch 10/120\n",
      "63/63 [==============================] - 1s 8ms/step - loss: 0.0204 - MSE: 0.0204\n",
      "Epoch 11/120\n",
      "63/63 [==============================] - 1s 9ms/step - loss: 0.0111 - MSE: 0.0111\n",
      "Epoch 12/120\n",
      "63/63 [==============================] - 1s 9ms/step - loss: 0.0207 - MSE: 0.0207\n",
      "Epoch 13/120\n",
      "63/63 [==============================] - 1s 8ms/step - loss: 0.0110 - MSE: 0.0110\n",
      "Epoch 14/120\n",
      "63/63 [==============================] - 1s 8ms/step - loss: 0.0092 - MSE: 0.0092\n",
      "Epoch 15/120\n",
      "63/63 [==============================] - 1s 8ms/step - loss: 0.0071 - MSE: 0.0071\n",
      "Epoch 16/120\n",
      "63/63 [==============================] - 1s 8ms/step - loss: 0.0067 - MSE: 0.0067\n",
      "Epoch 17/120\n",
      "63/63 [==============================] - 1s 8ms/step - loss: 0.0069 - MSE: 0.0069\n",
      "Epoch 18/120\n",
      "63/63 [==============================] - 1s 8ms/step - loss: 0.0035 - MSE: 0.0035\n",
      "Epoch 19/120\n",
      "63/63 [==============================] - 1s 10ms/step - loss: 0.0027 - MSE: 0.0027\n",
      "Epoch 20/120\n",
      "63/63 [==============================] - 1s 10ms/step - loss: 0.0028 - MSE: 0.0028\n",
      "Epoch 21/120\n",
      "63/63 [==============================] - 1s 9ms/step - loss: 0.0047 - MSE: 0.0047\n",
      "Epoch 22/120\n",
      "63/63 [==============================] - 1s 9ms/step - loss: 0.0054 - MSE: 0.0054\n",
      "Epoch 23/120\n",
      "63/63 [==============================] - 1s 9ms/step - loss: 0.0031 - MSE: 0.0031\n",
      "Epoch 24/120\n",
      "63/63 [==============================] - 1s 8ms/step - loss: 0.0023 - MSE: 0.0023\n",
      "Epoch 25/120\n",
      "63/63 [==============================] - 1s 8ms/step - loss: 0.0032 - MSE: 0.0032\n",
      "Epoch 26/120\n",
      "63/63 [==============================] - 1s 8ms/step - loss: 0.0221 - MSE: 0.0221\n",
      "Epoch 27/120\n",
      "63/63 [==============================] - 1s 8ms/step - loss: 0.0622 - MSE: 0.0622\n",
      "Epoch 28/120\n",
      "63/63 [==============================] - 1s 8ms/step - loss: 0.0242 - MSE: 0.0242\n",
      "Epoch 29/120\n",
      "63/63 [==============================] - 1s 8ms/step - loss: 0.0452 - MSE: 0.0452\n",
      "Epoch 30/120\n",
      "63/63 [==============================] - 1s 8ms/step - loss: 0.0066 - MSE: 0.0066\n",
      "Epoch 31/120\n",
      "63/63 [==============================] - 1s 8ms/step - loss: 0.0214 - MSE: 0.0214\n",
      "Epoch 32/120\n",
      "63/63 [==============================] - 1s 8ms/step - loss: 0.0151 - MSE: 0.0151\n",
      "Epoch 33/120\n",
      "63/63 [==============================] - 0s 8ms/step - loss: 0.0182 - MSE: 0.0182\n",
      "Epoch 34/120\n",
      "63/63 [==============================] - 1s 8ms/step - loss: 0.0045 - MSE: 0.0045\n",
      "Epoch 35/120\n",
      "63/63 [==============================] - 1s 9ms/step - loss: 0.0065 - MSE: 0.0065\n",
      "Epoch 36/120\n",
      "63/63 [==============================] - 1s 9ms/step - loss: 0.0060 - MSE: 0.0060\n",
      "Epoch 37/120\n",
      "63/63 [==============================] - 1s 8ms/step - loss: 0.0052 - MSE: 0.0052\n",
      "Epoch 38/120\n",
      "63/63 [==============================] - 1s 9ms/step - loss: 0.0077 - MSE: 0.0077\n",
      "Epoch 39/120\n",
      "63/63 [==============================] - 1s 8ms/step - loss: 0.0822 - MSE: 0.0822\n",
      "Epoch 40/120\n",
      "63/63 [==============================] - 1s 8ms/step - loss: 0.0171 - MSE: 0.0171\n",
      "Epoch 41/120\n",
      "63/63 [==============================] - 1s 8ms/step - loss: 0.0666 - MSE: 0.0666\n",
      "Epoch 42/120\n",
      "63/63 [==============================] - 1s 8ms/step - loss: 0.0187 - MSE: 0.0187\n",
      "Epoch 43/120\n",
      "63/63 [==============================] - 1s 8ms/step - loss: 0.0024 - MSE: 0.0024\n",
      "Epoch 44/120\n",
      "63/63 [==============================] - 0s 8ms/step - loss: 0.0044 - MSE: 0.0044\n",
      "Epoch 45/120\n",
      "63/63 [==============================] - 1s 9ms/step - loss: 0.0066 - MSE: 0.0066\n",
      "Epoch 46/120\n",
      "63/63 [==============================] - 1s 8ms/step - loss: 0.0929 - MSE: 0.0929\n",
      "Epoch 47/120\n",
      "63/63 [==============================] - 1s 8ms/step - loss: 0.5020 - MSE: 0.5020\n",
      "Epoch 48/120\n",
      "63/63 [==============================] - 1s 9ms/step - loss: 0.0863 - MSE: 0.0863\n",
      "Epoch 49/120\n",
      "63/63 [==============================] - 1s 9ms/step - loss: 0.0480 - MSE: 0.0480\n",
      "Epoch 50/120\n",
      "63/63 [==============================] - 1s 9ms/step - loss: 0.0093 - MSE: 0.0093\n",
      "Epoch 51/120\n",
      "63/63 [==============================] - 1s 8ms/step - loss: 0.0217 - MSE: 0.0217\n",
      "Epoch 52/120\n",
      "63/63 [==============================] - 0s 8ms/step - loss: 0.0110 - MSE: 0.0110\n",
      "Epoch 53/120\n",
      "63/63 [==============================] - 1s 9ms/step - loss: 0.0130 - MSE: 0.0130\n",
      "Epoch 54/120\n",
      "63/63 [==============================] - 1s 8ms/step - loss: 0.0080 - MSE: 0.0080\n",
      "Epoch 55/120\n",
      "63/63 [==============================] - 1s 12ms/step - loss: 0.0091 - MSE: 0.0091\n",
      "Epoch 56/120\n",
      "63/63 [==============================] - 1s 9ms/step - loss: 0.0089 - MSE: 0.0089\n",
      "Epoch 57/120\n",
      "63/63 [==============================] - 1s 9ms/step - loss: 0.0148 - MSE: 0.0148\n",
      "Epoch 58/120\n",
      "63/63 [==============================] - 1s 8ms/step - loss: 0.0053 - MSE: 0.0053\n",
      "Epoch 59/120\n",
      "63/63 [==============================] - 1s 11ms/step - loss: 0.0075 - MSE: 0.0075\n",
      "Epoch 60/120\n",
      "63/63 [==============================] - 1s 8ms/step - loss: 0.0054 - MSE: 0.0054\n",
      "Epoch 61/120\n",
      "63/63 [==============================] - 1s 8ms/step - loss: 0.0029 - MSE: 0.0029\n",
      "Epoch 62/120\n",
      "63/63 [==============================] - 1s 8ms/step - loss: 0.0041 - MSE: 0.0041\n",
      "Epoch 63/120\n",
      "63/63 [==============================] - 0s 8ms/step - loss: 0.0444 - MSE: 0.0444\n",
      "Epoch 64/120\n",
      "63/63 [==============================] - 0s 8ms/step - loss: 0.0117 - MSE: 0.0117\n",
      "Epoch 65/120\n",
      "63/63 [==============================] - 0s 8ms/step - loss: 0.0248 - MSE: 0.0248\n",
      "Epoch 66/120\n",
      "63/63 [==============================] - 0s 8ms/step - loss: 0.0205 - MSE: 0.0205\n",
      "Epoch 67/120\n",
      "63/63 [==============================] - 1s 8ms/step - loss: 0.0297 - MSE: 0.0297\n",
      "Epoch 68/120\n",
      "63/63 [==============================] - 1s 9ms/step - loss: 0.1381 - MSE: 0.1381\n",
      "Epoch 69/120\n",
      "63/63 [==============================] - 1s 8ms/step - loss: 0.0509 - MSE: 0.0509\n",
      "Epoch 70/120\n",
      "63/63 [==============================] - 1s 9ms/step - loss: 0.1643 - MSE: 0.1643\n",
      "Epoch 71/120\n",
      "63/63 [==============================] - 0s 8ms/step - loss: 0.0080 - MSE: 0.0080\n",
      "Epoch 72/120\n",
      "63/63 [==============================] - 1s 12ms/step - loss: 0.0045 - MSE: 0.0045\n",
      "Epoch 73/120\n",
      "63/63 [==============================] - 1s 8ms/step - loss: 0.0100 - MSE: 0.0100\n",
      "Epoch 74/120\n",
      "63/63 [==============================] - 1s 9ms/step - loss: 0.0064 - MSE: 0.0064\n",
      "Epoch 75/120\n",
      "63/63 [==============================] - 1s 9ms/step - loss: 0.0034 - MSE: 0.0034\n",
      "Epoch 76/120\n",
      "63/63 [==============================] - 1s 8ms/step - loss: 0.0038 - MSE: 0.0038\n",
      "Epoch 77/120\n",
      "63/63 [==============================] - 1s 8ms/step - loss: 0.0023 - MSE: 0.0023\n",
      "Epoch 78/120\n",
      "63/63 [==============================] - 1s 8ms/step - loss: 0.0027 - MSE: 0.0027\n",
      "Epoch 79/120\n",
      "63/63 [==============================] - 1s 9ms/step - loss: 0.0056 - MSE: 0.0056\n",
      "Epoch 80/120\n",
      "63/63 [==============================] - 1s 9ms/step - loss: 0.0014 - MSE: 0.0014\n",
      "Epoch 81/120\n",
      "63/63 [==============================] - 1s 8ms/step - loss: 6.3410e-04 - MSE: 6.3410e-04\n",
      "Epoch 82/120\n",
      "63/63 [==============================] - 1s 8ms/step - loss: 9.2371e-04 - MSE: 9.2371e-04\n",
      "Epoch 83/120\n",
      "63/63 [==============================] - 1s 9ms/step - loss: 0.0023 - MSE: 0.0023\n",
      "Epoch 84/120\n",
      "63/63 [==============================] - 1s 8ms/step - loss: 0.0063 - MSE: 0.0063\n",
      "Epoch 85/120\n",
      "63/63 [==============================] - 1s 8ms/step - loss: 0.0074 - MSE: 0.0074\n",
      "Epoch 86/120\n",
      "63/63 [==============================] - 1s 9ms/step - loss: 0.0132 - MSE: 0.0132\n",
      "Epoch 87/120\n",
      "63/63 [==============================] - 1s 9ms/step - loss: 0.0534 - MSE: 0.0534\n",
      "Epoch 88/120\n",
      "63/63 [==============================] - 1s 8ms/step - loss: 0.0425 - MSE: 0.0425\n",
      "Epoch 89/120\n",
      "63/63 [==============================] - 1s 8ms/step - loss: 0.0100 - MSE: 0.0100\n",
      "Epoch 90/120\n",
      "63/63 [==============================] - 1s 8ms/step - loss: 0.0022 - MSE: 0.0022\n",
      "Epoch 91/120\n",
      "63/63 [==============================] - 1s 8ms/step - loss: 0.0051 - MSE: 0.0051\n",
      "Epoch 92/120\n",
      "63/63 [==============================] - 1s 8ms/step - loss: 0.0014 - MSE: 0.0014\n",
      "Epoch 93/120\n",
      "63/63 [==============================] - 1s 8ms/step - loss: 0.0026 - MSE: 0.0026\n",
      "Epoch 94/120\n",
      "63/63 [==============================] - 1s 8ms/step - loss: 0.0018 - MSE: 0.0018\n",
      "Epoch 95/120\n",
      "63/63 [==============================] - 0s 8ms/step - loss: 0.0307 - MSE: 0.0307\n",
      "Epoch 96/120\n",
      "63/63 [==============================] - 1s 8ms/step - loss: 0.0875 - MSE: 0.0875\n",
      "Epoch 97/120\n",
      "63/63 [==============================] - 0s 8ms/step - loss: 0.1015 - MSE: 0.1015\n",
      "Epoch 98/120\n",
      "63/63 [==============================] - 0s 8ms/step - loss: 0.0074 - MSE: 0.0074\n",
      "Epoch 99/120\n",
      "63/63 [==============================] - 1s 8ms/step - loss: 0.0143 - MSE: 0.0143\n",
      "Epoch 100/120\n",
      "63/63 [==============================] - 1s 8ms/step - loss: 0.0253 - MSE: 0.0253\n",
      "Epoch 101/120\n",
      "63/63 [==============================] - 1s 9ms/step - loss: 0.0117 - MSE: 0.0117\n",
      "Epoch 102/120\n",
      "63/63 [==============================] - 1s 8ms/step - loss: 0.0158 - MSE: 0.0158\n",
      "Epoch 103/120\n",
      "63/63 [==============================] - 1s 8ms/step - loss: 0.0330 - MSE: 0.0330\n",
      "Epoch 104/120\n",
      "63/63 [==============================] - 1s 8ms/step - loss: 0.0210 - MSE: 0.0210\n",
      "Epoch 105/120\n",
      "63/63 [==============================] - 1s 8ms/step - loss: 0.0468 - MSE: 0.0468\n",
      "Epoch 106/120\n",
      "63/63 [==============================] - 1s 8ms/step - loss: 0.0153 - MSE: 0.0153\n",
      "Epoch 107/120\n",
      "63/63 [==============================] - 1s 8ms/step - loss: 0.0045 - MSE: 0.0045\n",
      "Epoch 108/120\n",
      "63/63 [==============================] - 1s 8ms/step - loss: 0.0098 - MSE: 0.0098\n",
      "Epoch 109/120\n",
      "63/63 [==============================] - 1s 8ms/step - loss: 0.0013 - MSE: 0.0013\n",
      "Epoch 110/120\n",
      "63/63 [==============================] - 0s 8ms/step - loss: 0.0019 - MSE: 0.0019\n",
      "Epoch 111/120\n",
      "63/63 [==============================] - 1s 8ms/step - loss: 0.0056 - MSE: 0.0056\n",
      "Epoch 112/120\n",
      "63/63 [==============================] - 1s 8ms/step - loss: 0.0032 - MSE: 0.0032\n",
      "Epoch 113/120\n",
      "63/63 [==============================] - 1s 8ms/step - loss: 0.0022 - MSE: 0.0022\n",
      "Epoch 114/120\n",
      "63/63 [==============================] - 1s 8ms/step - loss: 0.0069 - MSE: 0.0069\n",
      "Epoch 115/120\n",
      "63/63 [==============================] - 1s 8ms/step - loss: 0.0047 - MSE: 0.0047\n",
      "Epoch 116/120\n",
      "63/63 [==============================] - 1s 8ms/step - loss: 0.0012 - MSE: 0.0012\n",
      "Epoch 117/120\n",
      "63/63 [==============================] - 1s 8ms/step - loss: 9.4281e-04 - MSE: 9.4281e-04\n",
      "Epoch 118/120\n",
      "63/63 [==============================] - 1s 8ms/step - loss: 0.0033 - MSE: 0.0033\n",
      "Epoch 119/120\n",
      "63/63 [==============================] - 1s 8ms/step - loss: 0.0239 - MSE: 0.0239\n",
      "Epoch 120/120\n",
      "63/63 [==============================] - 1s 8ms/step - loss: 0.0964 - MSE: 0.0964\n"
     ]
    },
    {
     "data": {
      "text/plain": [
       "<keras.src.callbacks.History at 0x1921d6e7c10>"
      ]
     },
     "execution_count": 58,
     "metadata": {},
     "output_type": "execute_result"
    }
   ],
   "source": [
    "model4.fit(x=x,y=y,epochs=120,batch_size=16)"
   ]
  },
  {
   "cell_type": "code",
   "execution_count": 59,
   "id": "bca8c554-f308-4238-ac98-6014ffcc43f7",
   "metadata": {
    "tags": []
   },
   "outputs": [
    {
     "name": "stdout",
     "output_type": "stream",
     "text": [
      "4/4 [==============================] - 0s 3ms/step\n",
      "LR线性数据的MSE： 2.1103606936472506e-27\n",
      "DP线性数据的MSE： 24682.859873511912\n",
      "LR非线性数据的MSE： 101.33222784681325\n",
      "DP非线性数据的MSE： 34.450116092924674\n"
     ]
    }
   ],
   "source": [
    "y_pred=model4.predict(x_test)\n",
    "mse_test4=mean_squared_error(y_test,y_pred)\n",
    "print('LR线性数据的MSE：',mes_test1)\n",
    "print('DP线性数据的MSE：',mse_test2)\n",
    "print('LR非线性数据的MSE：',mse_test3)\n",
    "print('DP非线性数据的MSE：',mse_test4)"
   ]
  },
  {
   "cell_type": "code",
   "execution_count": 56,
   "id": "2076f13f-af6d-4103-bc31-f3bcc6e9501e",
   "metadata": {
    "tags": []
   },
   "outputs": [
    {
     "name": "stdout",
     "output_type": "stream",
     "text": [
      "[<tf.Variable 'dense_16/kernel:0' shape=(1, 1) dtype=float32, numpy=array([[-0.20563829]], dtype=float32)>, <tf.Variable 'dense_16/bias:0' shape=(1,) dtype=float32, numpy=array([0.], dtype=float32)>]\n"
     ]
    }
   ],
   "source": [
    "print(model2.trainable_variables) ##打印查看可训练的参数"
   ]
  },
  {
   "cell_type": "code",
   "execution_count": null,
   "id": "65040015-964f-4799-bba4-c386e864ee42",
   "metadata": {},
   "outputs": [],
   "source": []
  },
  {
   "cell_type": "code",
   "execution_count": null,
   "id": "6064e679-5772-4d7f-9cf5-e0139e28eb23",
   "metadata": {},
   "outputs": [],
   "source": []
  },
  {
   "cell_type": "code",
   "execution_count": null,
   "id": "f585303c-c55d-40b4-9d8a-260bca7e5424",
   "metadata": {},
   "outputs": [],
   "source": []
  },
  {
   "cell_type": "code",
   "execution_count": null,
   "id": "de3bb031-f199-41a4-bdde-eb4c29f742c2",
   "metadata": {},
   "outputs": [],
   "source": []
  },
  {
   "cell_type": "code",
   "execution_count": null,
   "id": "fd18e7b9-e2cb-403e-aa48-85eb97bdd5fe",
   "metadata": {},
   "outputs": [],
   "source": []
  },
  {
   "cell_type": "code",
   "execution_count": null,
   "id": "40586928-e6a9-478d-a557-b23f2a5f0c2a",
   "metadata": {},
   "outputs": [],
   "source": []
  }
 ],
 "metadata": {
  "kernelspec": {
   "display_name": "Python 3 (ipykernel)",
   "language": "python",
   "name": "python3"
  },
  "language_info": {
   "codemirror_mode": {
    "name": "ipython",
    "version": 3
   },
   "file_extension": ".py",
   "mimetype": "text/x-python",
   "name": "python",
   "nbconvert_exporter": "python",
   "pygments_lexer": "ipython3",
   "version": "3.11.3"
  }
 },
 "nbformat": 4,
 "nbformat_minor": 5
}
